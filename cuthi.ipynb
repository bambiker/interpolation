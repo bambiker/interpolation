{
  "metadata": {
    "kernelspec": {
      "name": "python",
      "display_name": "Python (Pyodide)",
      "language": "python"
    },
    "language_info": {
      "codemirror_mode": {
        "name": "python",
        "version": 3
      },
      "file_extension": ".py",
      "mimetype": "text/x-python",
      "name": "python",
      "nbconvert_exporter": "python",
      "pygments_lexer": "ipython3",
      "version": "3.8"
    }
  },
  "nbformat_minor": 4,
  "nbformat": 4,
  "cells": [
    {
      "cell_type": "markdown",
      "source": "# The CUTHI code",
      "metadata": {}
    },
    {
      "cell_type": "code",
      "source": "def cuthi(x,y,stations, s=0.5, alpha=2):\n    for i in range(len(stations)):\n        if stations[i][0] == x and stations[i][1] == y:\n            return stations[i][2]\n\n    wtotal=0\n    for k in range(len(stations)):\n        r = ((stations[k,0]-x)**2+(stations[k,1]-y)**2)  # it's r^2\n        if r!=0:\n            w=1./r**(alpha/2)\n            wcuthi = 1.\n            for m in range(len(stations)):\n                adist2 = float((stations[k][0] - stations[m][0]) ** 2 + (stations[k][1] - stations[m][1]) ** 2)\n                bdist2 = float((stations[m][0] - x) ** 2 + (stations[m][1] - y) ** 2)\n                if adist2>0 and bdist2>0:\n                    cosgama = (adist2 + bdist2 - r) / (2.0 * adist2**.5 * bdist2**.5)\n                    nangle = ((cosgama+1.)/2.)\n                    if nangle<0:\n                        if nangle<-0.01:\n                            print ('nangle ngnalge')\n                        else:\n                            nangle = 0.\n                            \n                    wcuthi*=nangle**s\n            w = w*wcuthi        \n            wtotal+=w\n    res=0\n    for k in range(len(stations)):\n        r = ((stations[k,0]-x)**2+(stations[k,1]-y)**2)\n        if r == 0:\n            res = stations[k,2]\n        else:\n            w=1./r**(alpha/2)\n            wcuthi=1.\n            for m in range(len(stations)):\n                adist2 = float((stations[k][0] - stations[m][0]) ** 2 + (stations[k][1] - stations[m][1]) ** 2)\n                bdist2 = float((stations[m][0] - x) ** 2 + (stations[m][1] - y) ** 2)\n                if adist2>0 and bdist2>0:\n                    cosgama = (adist2 + bdist2 - r) / (2.0 * adist2**.5 * bdist2**.5)\n                    nangle = ((cosgama+1.)/2.)\n                    if nangle<0:\n                        if nangle<-0.01:\n                            print ('nangle ngnalge')\n                        else:\n                            nangle = 0.\n                    wcuthi*=nangle**s\n            w = w*wcuthi\n            res+=stations[k,2]*w/wtotal\n    \n    return res",
      "metadata": {
        "trusted": true
      },
      "outputs": [],
      "execution_count": 15
    },
    {
      "cell_type": "markdown",
      "source": "# Cross-validation code",
      "metadata": {}
    },
    {
      "cell_type": "code",
      "source": "import sklearn.metrics\ndef crossvalidation(stations, alpha = 2):\n    size=len(stations)\n    r2 = 0\n    resultcuthi = []\n    for i in range(size):\n            cv = []\n            for j in range(size):\n                if i!=j:\n                   cv.append(stations[j])                      \n            cv = np.asarray(cv)\n            resultcuthi.append(cuthi(stations[i,0],stations[i,1],cv, s=0.5, alpha=alpha))\n    r2   += sklearn.metrics.r2_score(stations[:,2], resultcuthi)\n    return r2",
      "metadata": {
        "trusted": true
      },
      "outputs": [],
      "execution_count": 16
    },
    {
      "cell_type": "markdown",
      "source": "# Build the stations data #",
      "metadata": {}
    },
    {
      "cell_type": "code",
      "source": "import random \nimport numpy as np\ndef getFunction(size):\n    minlat = -50\n    maxlat = 150\n    minlng = -50\n    maxlng = 150\n    \n    stations = []\n    for i in range (size):\n        latrand = random.uniform(minlat, maxlat)\n        lngrand = random.uniform(minlng, maxlng)\n        z = latrand **2 - lngrand **2\n        stations.append([lngrand, latrand, z])\n    stations = np.asarray(stations)\n    \n    return stations",
      "metadata": {
        "trusted": true
      },
      "outputs": [],
      "execution_count": 13
    },
    {
      "cell_type": "markdown",
      "source": "# Main code\n1. build the station data (using mathematical function)\n2. calculate the CUTHI accuracy using cross-validation (optional) - it is better to use interpolation only if the score is positive\n3. interpolation",
      "metadata": {}
    },
    {
      "cell_type": "code",
      "source": "size=80\nstations = getFunction(size)\nprint(\"Cross validation score is:\",crossvalidation(stations), \" should be positive\")\nresultcuthi = cuthi(130,130,stations)\nprint(\"Interpolated value of x=0, y=0 should be 0:\", cuthi(0,0,stations), \" (CUTHI) \", cuthi(0,0,stations, cuthi=False), \" (IDW)\")",
      "metadata": {
        "trusted": true
      },
      "outputs": [
        {
          "ename": "<class 'TypeError'>",
          "evalue": "'bool' object is not callable",
          "traceback": [
            "\u001b[0;31m---------------------------------------------------------------------------\u001b[0m",
            "\u001b[0;31mTypeError\u001b[0m                                 Traceback (most recent call last)",
            "Cell \u001b[0;32mIn[14], line 3\u001b[0m\n\u001b[1;32m      1\u001b[0m size\u001b[38;5;241m=\u001b[39m\u001b[38;5;241m80\u001b[39m\n\u001b[1;32m      2\u001b[0m stations \u001b[38;5;241m=\u001b[39m getFunction(size)\n\u001b[0;32m----> 3\u001b[0m \u001b[38;5;28mprint\u001b[39m(\u001b[38;5;124m\"\u001b[39m\u001b[38;5;124mCross validation score is:\u001b[39m\u001b[38;5;124m\"\u001b[39m,\u001b[43mcrossvalidation\u001b[49m\u001b[43m(\u001b[49m\u001b[43mstations\u001b[49m\u001b[43m)\u001b[49m, \u001b[38;5;124m\"\u001b[39m\u001b[38;5;124m should be positive\u001b[39m\u001b[38;5;124m\"\u001b[39m)\n\u001b[1;32m      4\u001b[0m resultcuthi \u001b[38;5;241m=\u001b[39m cuthi(\u001b[38;5;241m130\u001b[39m,\u001b[38;5;241m130\u001b[39m,stations)\n\u001b[1;32m      5\u001b[0m resultidw   \u001b[38;5;241m=\u001b[39m cuthi(\u001b[38;5;241m130\u001b[39m,\u001b[38;5;241m130\u001b[39m,stations, cuthi\u001b[38;5;241m=\u001b[39m\u001b[38;5;28;01mFalse\u001b[39;00m)\n",
            "Cell \u001b[0;32mIn[12], line 12\u001b[0m, in \u001b[0;36mcrossvalidation\u001b[0;34m(stations, cuthi, alpha)\u001b[0m\n\u001b[1;32m     10\u001b[0m                cv\u001b[38;5;241m.\u001b[39mappend(stations[j])                      \n\u001b[1;32m     11\u001b[0m         cv \u001b[38;5;241m=\u001b[39m np\u001b[38;5;241m.\u001b[39masarray(cv)\n\u001b[0;32m---> 12\u001b[0m         resultcuthi\u001b[38;5;241m.\u001b[39mappend(\u001b[43mcuthi\u001b[49m\u001b[43m(\u001b[49m\u001b[43mstations\u001b[49m\u001b[43m[\u001b[49m\u001b[43mi\u001b[49m\u001b[43m,\u001b[49m\u001b[38;5;241;43m0\u001b[39;49m\u001b[43m]\u001b[49m\u001b[43m,\u001b[49m\u001b[43mstations\u001b[49m\u001b[43m[\u001b[49m\u001b[43mi\u001b[49m\u001b[43m,\u001b[49m\u001b[38;5;241;43m1\u001b[39;49m\u001b[43m]\u001b[49m\u001b[43m,\u001b[49m\u001b[43mcv\u001b[49m\u001b[43m,\u001b[49m\u001b[43m \u001b[49m\u001b[43mcuthi\u001b[49m\u001b[38;5;241;43m=\u001b[39;49m\u001b[38;5;28;43;01mTrue\u001b[39;49;00m\u001b[43m,\u001b[49m\u001b[43m \u001b[49m\u001b[43ms\u001b[49m\u001b[38;5;241;43m=\u001b[39;49m\u001b[38;5;241;43m0.5\u001b[39;49m\u001b[43m,\u001b[49m\u001b[43m \u001b[49m\u001b[43malpha\u001b[49m\u001b[38;5;241;43m=\u001b[39;49m\u001b[43malpha\u001b[49m\u001b[43m)\u001b[49m)\n\u001b[1;32m     13\u001b[0m r2   \u001b[38;5;241m+\u001b[39m\u001b[38;5;241m=\u001b[39m sklearn\u001b[38;5;241m.\u001b[39mmetrics\u001b[38;5;241m.\u001b[39mr2_score(stations[:,\u001b[38;5;241m2\u001b[39m], resultcuthi)\n\u001b[1;32m     14\u001b[0m \u001b[38;5;28;01mreturn\u001b[39;00m r2\n",
            "\u001b[0;31mTypeError\u001b[0m: 'bool' object is not callable"
          ],
          "output_type": "error"
        }
      ],
      "execution_count": 14
    },
    {
      "cell_type": "code",
      "source": "",
      "metadata": {
        "trusted": true
      },
      "outputs": [],
      "execution_count": null
    }
  ]
}