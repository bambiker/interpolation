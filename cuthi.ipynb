{
  "metadata": {
    "kernelspec": {
      "name": "python",
      "display_name": "Python (Pyodide)",
      "language": "python"
    },
    "language_info": {
      "codemirror_mode": {
        "name": "python",
        "version": 3
      },
      "file_extension": ".py",
      "mimetype": "text/x-python",
      "name": "python",
      "nbconvert_exporter": "python",
      "pygments_lexer": "ipython3",
      "version": "3.8"
    }
  },
  "nbformat_minor": 4,
  "nbformat": 4,
  "cells": [
    {
      "cell_type": "markdown",
      "source": "# The CUTHI code",
      "metadata": {}
    },
    {
      "cell_type": "code",
      "source": "def cuthi(x,y,stations, s=0.5, alpha=2):\n    for i in range(len(stations)):\n        if stations[i][0] == x and stations[i][1] == y:\n            return stations[i][2]\n\n    wtotal=0\n    for k in range(len(stations)):\n        r = ((stations[k,0]-x)**2+(stations[k,1]-y)**2)  # it's r^2\n        if r!=0:\n            w=1./r**(alpha/2)\n            wcuthi = 1.\n            for m in range(len(stations)):\n                adist2 = float((stations[k][0] - stations[m][0]) ** 2 + (stations[k][1] - stations[m][1]) ** 2)\n                bdist2 = float((stations[m][0] - x) ** 2 + (stations[m][1] - y) ** 2)\n                if adist2>0 and bdist2>0:\n                    cosgama = (adist2 + bdist2 - r) / (2.0 * adist2**.5 * bdist2**.5)\n                    nangle = ((cosgama+1.)/2.)\n                    if nangle<0:\n                        if nangle<-0.01:\n                            print ('nangle ngnalge')\n                        else:\n                            nangle = 0.\n                            \n                    wcuthi*=nangle**s\n            w = w*wcuthi        \n            wtotal+=w\n    res=0\n    for k in range(len(stations)):\n        r = ((stations[k,0]-x)**2+(stations[k,1]-y)**2)\n        if r == 0:\n            res = stations[k,2]\n        else:\n            w=1./r**(alpha/2)\n            wcuthi=1.\n            for m in range(len(stations)):\n                adist2 = float((stations[k][0] - stations[m][0]) ** 2 + (stations[k][1] - stations[m][1]) ** 2)\n                bdist2 = float((stations[m][0] - x) ** 2 + (stations[m][1] - y) ** 2)\n                if adist2>0 and bdist2>0:\n                    cosgama = (adist2 + bdist2 - r) / (2.0 * adist2**.5 * bdist2**.5)\n                    nangle = ((cosgama+1.)/2.)\n                    if nangle<0:\n                        if nangle<-0.01:\n                            print ('nangle ngnalge')\n                        else:\n                            nangle = 0.\n                    wcuthi*=nangle**s\n            w = w*wcuthi\n            res+=stations[k,2]*w/wtotal\n    \n    return res",
      "metadata": {
        "trusted": true
      },
      "outputs": [],
      "execution_count": 15
    },
    {
      "cell_type": "markdown",
      "source": "# Cross-validation code",
      "metadata": {}
    },
    {
      "cell_type": "code",
      "source": "import sklearn.metrics\ndef crossvalidation(stations, alpha = 2):\n    size=len(stations)\n    r2 = 0\n    resultcuthi = []\n    for i in range(size):\n            cv = []\n            for j in range(size):\n                if i!=j:\n                   cv.append(stations[j])                      \n            cv = np.asarray(cv)\n            resultcuthi.append(cuthi(stations[i,0],stations[i,1],cv, s=0.5, alpha=alpha))\n    r2   += sklearn.metrics.r2_score(stations[:,2], resultcuthi)\n    return r2",
      "metadata": {
        "trusted": true
      },
      "outputs": [],
      "execution_count": 16
    },
    {
      "cell_type": "markdown",
      "source": "# Build the stations data #",
      "metadata": {}
    },
    {
      "cell_type": "code",
      "source": "import random \nimport numpy as np\ndef getFunction(size):\n    minlat = -50\n    maxlat = 150\n    minlng = -50\n    maxlng = 150\n    \n    stations = []\n    for i in range (size):\n        latrand = random.uniform(minlat, maxlat)\n        lngrand = random.uniform(minlng, maxlng)\n        z = latrand **2 - lngrand **2\n        stations.append([lngrand, latrand, z])\n    stations = np.asarray(stations)\n    \n    return stations",
      "metadata": {
        "trusted": true
      },
      "outputs": [],
      "execution_count": 13
    },
    {
      "cell_type": "markdown",
      "source": "# Main code\n1. build the station data (using mathematical function)\n2. calculate the CUTHI accuracy using cross-validation (optional) - it is better to use interpolation only if the score is positive\n3. interpolation",
      "metadata": {}
    },
    {
      "cell_type": "code",
      "source": "size=60\nstations = getFunction(size)\nprint(\"Cross validation score is:\",crossvalidation(stations), \" should be positive\")\nresultcuthi = cuthi(130,130,stations)\nprint(\"Interpolated value of x=0, y=0 (should be 0, maximum value is 22500) is:\", cuthi(0,0,stations))",
      "metadata": {
        "trusted": true
      },
      "outputs": [
        {
          "name": "stdout",
          "text": "Cross validation score is: 0.9704658470385893  should be positive\nInterpolated value of x=0, y=0 (should be 0, maximum value is 22500) is: -15.327497137866354\n",
          "output_type": "stream"
        }
      ],
      "execution_count": 34
    }
  ]
}