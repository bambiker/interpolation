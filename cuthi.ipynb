{
  "metadata": {
    "kernelspec": {
      "name": "python",
      "display_name": "Python (Pyodide)",
      "language": "python"
    },
    "language_info": {
      "codemirror_mode": {
        "name": "python",
        "version": 3
      },
      "file_extension": ".py",
      "mimetype": "text/x-python",
      "name": "python",
      "nbconvert_exporter": "python",
      "pygments_lexer": "ipython3",
      "version": "3.8"
    }
  },
  "nbformat_minor": 4,
  "nbformat": 4,
  "cells": [
    {
      "cell_type": "markdown",
      "source": "# The CUTHI code",
      "metadata": {}
    },
    {
      "cell_type": "code",
      "source": "def cuthi(x, y, stations, s=0.5, alpha=2):\n    \n    # Check for exact match first (avoiding all the loops if found)\n    idx = np.where((stations[:, 0] == x) & (stations[:, 1] == y))\n    if idx[0].size > 0:\n        return stations[idx[0][0], 2]\n    \n    # Precompute distances between all pairs of stations\n    dx = stations[:, 0].reshape(-1, 1) - stations[:, 0]\n    dy = stations[:, 1].reshape(-1, 1) - stations[:, 1]\n    dist2 = dx**2 + dy**2  # r^2 (distance squared)\n    \n    wtotal = 0\n    w = np.zeros(len(stations))\n    \n    for k in range(len(stations)):\n        r2 = dist2[k, k]\n        if r2 != 0:\n            w[k] = 1. / r2**(alpha / 2)\n            wcuthi = 1.\n            \n            # Precompute distance terms for all stations relative to station k\n            adist2 = dist2[k, :]\n            bdist2 = dist2[:, k]\n            cosgama = np.zeros(len(stations))\n            nangle = np.zeros(len(stations))\n            \n            for m in range(len(stations)):\n                if adist2[m] > 0 and bdist2[m] > 0:\n                    cosgama[m] = (adist2[m] + bdist2[m] - r2) / (2.0 * np.sqrt(adist2[m]) * np.sqrt(bdist2[m]))\n                    nangle[m] = (cosgama[m] + 1.) / 2.\n                    nangle[m] = max(0., nangle[m])  # Ensuring nangle is non-negative\n                    \n                wcuthi *= nangle[m]**s\n            \n            w[k] *= wcuthi\n            wtotal += w[k]\n    \n    res = 0\n    if wtotal == 0:\n        return 0  # Or some fallback value if no valid weight is computed\n    \n    for k in range(len(stations)):\n        r2 = dist2[k, k]\n        if r2 == 0:\n            res = stations[k, 2]\n        else:\n            w[k] = 1. / r2**(alpha / 2)\n            wcuthi = 1.\n            \n            # Precompute distance terms for all stations relative to station k\n            for m in range(len(stations)):\n                adist2 = dist2[k, m]\n                bdist2 = dist2[m, k]\n                if adist2 > 0 and bdist2 > 0:\n                    cosgama = (adist2 + bdist2 - r2) / (2.0 * np.sqrt(adist2) * np.sqrt(bdist2))\n                    nangle = (cosgama + 1.) / 2.\n                    nangle = max(0., nangle)  # Ensuring nangle is non-negative\n                    \n                wcuthi *= nangle**s\n            \n            w[k] *= wcuthi\n            res += stations[k, 2] * w[k] / wtotal\n    \n    return res",
      "metadata": {
        "trusted": true
      },
      "outputs": [],
      "execution_count": 1
    },
    {
      "cell_type": "markdown",
      "source": "# Cross-validation code",
      "metadata": {}
    },
    {
      "cell_type": "code",
      "source": "import sklearn.metrics\ndef crossvalidation(stations, alpha = 2):\n    size=len(stations)\n    r2 = 0\n    resultcuthi = []\n    for i in range(size):\n            cv = []\n            for j in range(size):\n                if i!=j:\n                   cv.append(stations[j])                      \n            cv = np.asarray(cv)\n            resultcuthi.append(cuthi(stations[i,0],stations[i,1],cv, s=0.5, alpha=alpha))\n    r2   += sklearn.metrics.r2_score(stations[:,2], resultcuthi)\n    return r2",
      "metadata": {
        "trusted": true
      },
      "outputs": [],
      "execution_count": 2
    },
    {
      "cell_type": "markdown",
      "source": "# Build the stations data #",
      "metadata": {}
    },
    {
      "cell_type": "code",
      "source": "import random \nimport numpy as np\ndef getFunction(size):\n    minlat = -50\n    maxlat = 150\n    minlng = -50\n    maxlng = 150\n    \n    stations = []\n    for i in range (size):\n        latrand = random.uniform(minlat, maxlat)\n        lngrand = random.uniform(minlng, maxlng)\n        z = latrand **2 - lngrand **2\n        stations.append([lngrand, latrand, z])\n    stations = np.asarray(stations)\n    \n    return stations",
      "metadata": {
        "trusted": true
      },
      "outputs": [],
      "execution_count": 5
    },
    {
      "cell_type": "markdown",
      "source": "# Main code\n1. build the station data (using mathematical function)\n2. calculate the CUTHI accuracy using cross-validation (optional) - it is better to use interpolation only if the score is positive\n3. interpolation",
      "metadata": {}
    },
    {
      "cell_type": "code",
      "source": "size=60\nstations = getFunction(size)\nprint(\"Cross validation score is:\",crossvalidation(stations), \" should be positive\")\nresultcuthi = cuthi(130,130,stations)\nprint(\"Interpolated value of x=0, y=0 (should be 0, maximum value is 22500) is:\", cuthi(0,0,stations))",
      "metadata": {
        "trusted": true
      },
      "outputs": [
        {
          "name": "stdout",
          "output_type": "stream",
          "text": "Cross validation score is: 0.9576993634824083  should be positive\nInterpolated value of x=0, y=0 (should be 0, maximum value is 22500) is: 111.13697178888864\n"
        }
      ],
      "execution_count": 7
    },
    {
      "cell_type": "markdown",
      "source": "# More codes #\nCuthi's code above is much faster than the following code, but the following code is simpler to read, both give the same prediction. \nThe following code is an Inverse Distance Weighting (IDW) code.",
      "metadata": {}
    },
    {
      "cell_type": "code",
      "source": "def readable_cuthi(x,y,stations, s=0.5, alpha=2):\n    for i in range(len(stations)):\n        if stations[i][0] == x and stations[i][1] == y:\n            return stations[i][2]\n\n    wtotal=0\n    for k in range(len(stations)):\n        r = ((stations[k,0]-x)**2+(stations[k,1]-y)**2)  # it's r^2\n        if r!=0:\n            w=1./r**(alpha/2)\n            wcuthi = 1.\n            for m in range(len(stations)):\n                adist2 = float((stations[k][0] - stations[m][0]) ** 2 + (stations[k][1] - stations[m][1]) ** 2)\n                bdist2 = float((stations[m][0] - x) ** 2 + (stations[m][1] - y) ** 2)\n                if adist2>0 and bdist2>0:\n                    cosgama = (adist2 + bdist2 - r) / (2.0 * adist2**.5 * bdist2**.5)\n                    nangle = ((cosgama+1.)/2.)\n                    if nangle<0:\n                        if nangle<-0.01:\n                            print ('nangle ngnalge')\n                        else:\n                            nangle = 0.\n                            \n                    wcuthi*=nangle**s\n            w = w*wcuthi        \n            wtotal+=w\n    res=0\n    for k in range(len(stations)):\n        r = ((stations[k,0]-x)**2+(stations[k,1]-y)**2)\n        if r == 0:\n            res = stations[k,2]\n        else:\n            w=1./r**(alpha/2)\n            wcuthi=1.\n            for m in range(len(stations)):\n                adist2 = float((stations[k][0] - stations[m][0]) ** 2 + (stations[k][1] - stations[m][1]) ** 2)\n                bdist2 = float((stations[m][0] - x) ** 2 + (stations[m][1] - y) ** 2)\n                if adist2>0 and bdist2>0:\n                    cosgama = (adist2 + bdist2 - r) / (2.0 * adist2**.5 * bdist2**.5)\n                    nangle = ((cosgama+1.)/2.)\n                    if nangle<0:\n                        if nangle<-0.01:\n                            print ('nangle ngnalge')\n                        else:\n                            nangle = 0.\n                    wcuthi*=nangle**s\n            w = w*wcuthi\n            res+=stations[k,2]*w/wtotal\n    \n    return res",
      "metadata": {
        "trusted": true
      },
      "outputs": [],
      "execution_count": 1
    },
    {
      "cell_type": "code",
      "source": "def idw(x, y, stations, alpha=2):\n   \n    # Check for exact match first (avoiding all the loops if found)\n    idx = np.where((stations[:, 0] == x) & (stations[:, 1] == y))\n    if idx[0].size > 0:\n        return stations[idx[0][0], 2]\n    \n    # Precompute distances between all stations and the point (x, y)\n    dx = stations[:, 0] - x\n    dy = stations[:, 1] - y\n    r2 = dx**2 + dy**2  # r^2\n    \n    # Calculate total weight\n    wtotal = np.sum(1. / r2**(alpha / 2))\n    \n    # If wtotal is 0, return 0 (or handle this case according to your needs)\n    if wtotal == 0:\n        return 0\n    \n    # Weighted sum of station values\n    w = 1. / r2**(alpha / 2)\n    res = np.sum(stations[:, 2] * w / wtotal)\n    \n    return res",
      "metadata": {
        "trusted": true
      },
      "outputs": [],
      "execution_count": null
    }
  ]
}
